{
 "cells": [
  {
   "cell_type": "code",
   "execution_count": 4,
   "metadata": {
    "collapsed": false
   },
   "outputs": [],
   "source": [
    "%matplotlib inline\n",
    "import matplotlib.pyplot as plt\n",
    "\n",
    "import numpy as np\n",
    "import pandas as pd\n",
    "from sklearn import metrics\n",
    "from sklearn.linear_model import LogisticRegression\n",
    "import statsmodels.api as sm\n",
    "import statsmodels.formula.api as smf\n",
    "import requests\n",
    "from bs4 import BeautifulSoup"
   ]
  },
  {
   "cell_type": "code",
   "execution_count": 5,
   "metadata": {
    "collapsed": false
   },
   "outputs": [],
   "source": [
    "frames = []\n",
    "def create_data_frames(urls):\n",
    "    for url in urls:\n",
    "        r = requests.get(url)\n",
    "        soup = BeautifulSoup(r.text)\n",
    "        \n",
    "        time=[]\n",
    "        city=[]\n",
    "        state=[]\n",
    "        shape=[]\n",
    "        duration=[]\n",
    "        summary=[]\n",
    "        posted=[]\n",
    "        table=soup.find('tbody')\n",
    "\n",
    "        for row in table.findAll('tr')[0:]:\n",
    "        # Create a variable of all the <td> tag pairs in each <tr> tag pair,\n",
    "            col = row.find_all('td')            \n",
    "            column_0 = col[0].string  \n",
    "            time.append(column_0)   \n",
    "            column_1 = col[1].string\n",
    "            city.append(column_1)    \n",
    "            column_2 = col[2].string\n",
    "            state.append(column_2)        \n",
    "            column_3 = col[3].string\n",
    "            shape.append(column_3)    \n",
    "            column_4 = col[4].string\n",
    "            duration.append(column_4)\n",
    "            column_5 = col[5].string\n",
    "            summary.append(column_5)    \n",
    "            column_6 = col[6].string\n",
    "            posted.append(column_6)\n",
    "    \n",
    "        data_raw= {'Date/Time':time, 'City':city, 'State': state, 'Shape': shape, 'Duration': duration,\n",
    "                       'Summary': summary, 'Posted': posted}\n",
    "        features=['Date/Time', 'City','State', 'Shape', 'Duration','Summary','Posted']\n",
    "        df_time = pd.DataFrame(data_raw, columns=features)\n",
    "        frames.append(df_time)\n",
    "        \n",
    "    return frames"
   ]
  },
  {
   "cell_type": "code",
   "execution_count": 6,
   "metadata": {
    "collapsed": false
   },
   "outputs": [],
   "source": [
    "urls=['http://www.nuforc.org/webreports/ndxe201512.html',\n",
    "      'http://www.nuforc.org/webreports/ndxe201511.html',\n",
    "      'http://www.nuforc.org/webreports/ndxe201510.html',\n",
    "      'http://www.nuforc.org/webreports/ndxe201509.html',\n",
    "      'http://www.nuforc.org/webreports/ndxe201508.html',\n",
    "     'http://www.nuforc.org/webreports/ndxe201507.html',\n",
    "     'http://www.nuforc.org/webreports/ndxe201506.html',\n",
    "     'http://www.nuforc.org/webreports/ndxe201505.html',\n",
    "     'http://www.nuforc.org/webreports/ndxe201504.html',\n",
    "     'http://www.nuforc.org/webreports/ndxe201503.html',\n",
    "     'http://www.nuforc.org/webreports/ndxe201502.html',\n",
    "     'http://www.nuforc.org/webreports/ndxe201501.html',\n",
    "      'http://www.nuforc.org/webreports/ndxe201412.html',\n",
    "      'http://www.nuforc.org/webreports/ndxe201411.html',\n",
    "      'http://www.nuforc.org/webreports/ndxe201410.html',\n",
    "      'http://www.nuforc.org/webreports/ndxe201409.html',\n",
    "      'http://www.nuforc.org/webreports/ndxe201408.html',\n",
    "     'http://www.nuforc.org/webreports/ndxe201407.html',\n",
    "     'http://www.nuforc.org/webreports/ndxe201406.html',\n",
    "     'http://www.nuforc.org/webreports/ndxe201405.html',\n",
    "     'http://www.nuforc.org/webreports/ndxe201404.html',\n",
    "     'http://www.nuforc.org/webreports/ndxe201403.html',\n",
    "     'http://www.nuforc.org/webreports/ndxe201402.html',\n",
    "     'http://www.nuforc.org/webreports/ndxe201401.html',\n",
    "     ]\n",
    "\n",
    "frame_ufo =create_data_frames(urls)"
   ]
  },
  {
   "cell_type": "code",
   "execution_count": 7,
   "metadata": {
    "collapsed": false
   },
   "outputs": [],
   "source": [
    "df = pd.concat(frame_ufo)\n",
    "df.to_csv('data.csv',sep='\\t', encoding='utf-8', index=False)\n",
    "#df.to_csv('data.csv')\n",
    "print df.shape"
   ]
  },
  {
   "cell_type": "code",
   "execution_count": null,
   "metadata": {
    "collapsed": true
   },
   "outputs": [],
   "source": []
  },
  {
   "cell_type": "code",
   "execution_count": null,
   "metadata": {
    "collapsed": true
   },
   "outputs": [],
   "source": []
  }
 ],
 "metadata": {
  "kernelspec": {
   "display_name": "Python 2",
   "language": "python",
   "name": "python2"
  },
  "language_info": {
   "codemirror_mode": {
    "name": "ipython",
    "version": 2
   },
   "file_extension": ".py",
   "mimetype": "text/x-python",
   "name": "python",
   "nbconvert_exporter": "python",
   "pygments_lexer": "ipython2",
   "version": "2.7.11"
  }
 },
 "nbformat": 4,
 "nbformat_minor": 0
}
