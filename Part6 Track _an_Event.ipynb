{
 "cells": [
  {
   "cell_type": "code",
   "execution_count": 1,
   "metadata": {
    "collapsed": true
   },
   "outputs": [],
   "source": [
    "%matplotlib inline\n",
    "import matplotlib.pyplot as plt\n",
    "import seaborn as sns\n",
    "import statsmodels.api as sm\n",
    "import pandas as pd\n",
    "import numpy as np\n",
    "import seaborn as sns\n",
    "import statsmodels.formula.api as smf\n",
    "import sklearn.linear_model"
   ]
  },
  {
   "cell_type": "code",
   "execution_count": 2,
   "metadata": {
    "collapsed": false
   },
   "outputs": [
    {
     "data": {
      "text/plain": [
       "(12172, 30)"
      ]
     },
     "execution_count": 2,
     "metadata": {},
     "output_type": "execute_result"
    }
   ],
   "source": [
    "df = pd.read_csv(\"../final_projects/assets/ufo_reports.csv\", sep='\\t')\n",
    "df=df[(~df.Long.isnull()) & (~df.Lat.isnull())]\n",
    "df.columns\n",
    "df.shape"
   ]
  },
  {
   "cell_type": "code",
   "execution_count": 3,
   "metadata": {
    "collapsed": true
   },
   "outputs": [],
   "source": [
    "from datetime import datetime\n",
    "def days_between(d1, d2):\n",
    "    d1 = datetime.strptime(d1, \"%Y-%m-%d\")\n",
    "    d2 = datetime.strptime(d2, \"%Y-%m-%d\")\n",
    "    return abs((d2 - d1).days)"
   ]
  },
  {
   "cell_type": "code",
   "execution_count": 4,
   "metadata": {
    "collapsed": false
   },
   "outputs": [
    {
     "data": {
      "text/html": [
       "<div>\n",
       "<table border=\"1\" class=\"dataframe\">\n",
       "  <thead>\n",
       "    <tr style=\"text-align: right;\">\n",
       "      <th></th>\n",
       "      <th>Date</th>\n",
       "      <th>Time</th>\n",
       "      <th>Lat</th>\n",
       "      <th>Long</th>\n",
       "      <th>City</th>\n",
       "      <th>State</th>\n",
       "      <th>Summary</th>\n",
       "      <th>Diff</th>\n",
       "    </tr>\n",
       "  </thead>\n",
       "  <tbody>\n",
       "    <tr>\n",
       "      <th>0</th>\n",
       "      <td>2015-12-31</td>\n",
       "      <td>23:59</td>\n",
       "      <td>44.052069</td>\n",
       "      <td>-123.086746</td>\n",
       "      <td>Eugene</td>\n",
       "      <td>OR</td>\n",
       "      <td>Viewed 4 slow moving orange-ish orbs on new ye...</td>\n",
       "      <td>729</td>\n",
       "    </tr>\n",
       "    <tr>\n",
       "      <th>1</th>\n",
       "      <td>2015-12-31</td>\n",
       "      <td>15:00</td>\n",
       "      <td>44.848449</td>\n",
       "      <td>-123.233987</td>\n",
       "      <td>Monmouth</td>\n",
       "      <td>OR</td>\n",
       "      <td>A white balloon gives off a bright blue light ...</td>\n",
       "      <td>729</td>\n",
       "    </tr>\n",
       "  </tbody>\n",
       "</table>\n",
       "</div>"
      ],
      "text/plain": [
       "         Date   Time        Lat        Long      City State  \\\n",
       "0  2015-12-31  23:59  44.052069 -123.086746    Eugene    OR   \n",
       "1  2015-12-31  15:00  44.848449 -123.233987  Monmouth    OR   \n",
       "\n",
       "                                             Summary  Diff  \n",
       "0  Viewed 4 slow moving orange-ish orbs on new ye...   729  \n",
       "1  A white balloon gives off a bright blue light ...   729  "
      ]
     },
     "execution_count": 4,
     "metadata": {},
     "output_type": "execute_result"
    }
   ],
   "source": [
    "features = ['Date','Time','Lat', 'Long', 'City', 'State', 'Summary']\n",
    "data = pd.DataFrame(df, columns=features)\n",
    "data['Diff'] = data['Date'].apply(lambda x: days_between(str(x), '2014-01-01'))\n",
    "data.head(2)"
   ]
  },
  {
   "cell_type": "code",
   "execution_count": 5,
   "metadata": {
    "collapsed": false
   },
   "outputs": [],
   "source": [
    "## Combine date and time\n",
    "import datetime\n",
    "time= [r.split(':') for r in data['Time']]\n",
    "day = [r.split('-') for r in data['Date']]"
   ]
  },
  {
   "cell_type": "code",
   "execution_count": 6,
   "metadata": {
    "collapsed": false
   },
   "outputs": [],
   "source": [
    "dt = []\n",
    "for i in range(0,len(time)):\n",
    "    try:\n",
    "        dt.append(datetime.datetime.combine(datetime.date(int(day[i][0]), int(day[i][1]), int(day[i][2])), datetime.time(int(time[i][0]), int(time[i][1]))))\n",
    "    except ValueError:\n",
    "        dt.append(None)\n",
    "                       \n",
    "data['Date']=dt"
   ]
  },
  {
   "cell_type": "code",
   "execution_count": 7,
   "metadata": {
    "collapsed": false
   },
   "outputs": [
    {
     "data": {
      "text/html": [
       "<div>\n",
       "<table border=\"1\" class=\"dataframe\">\n",
       "  <thead>\n",
       "    <tr style=\"text-align: right;\">\n",
       "      <th></th>\n",
       "      <th>Date</th>\n",
       "      <th>Time</th>\n",
       "      <th>Lat</th>\n",
       "      <th>Long</th>\n",
       "      <th>City</th>\n",
       "      <th>State</th>\n",
       "      <th>Summary</th>\n",
       "      <th>Diff</th>\n",
       "    </tr>\n",
       "  </thead>\n",
       "  <tbody>\n",
       "    <tr>\n",
       "      <th>0</th>\n",
       "      <td>2015-12-31 23:59:00</td>\n",
       "      <td>23:59</td>\n",
       "      <td>44.052069</td>\n",
       "      <td>-123.086746</td>\n",
       "      <td>Eugene</td>\n",
       "      <td>OR</td>\n",
       "      <td>Viewed 4 slow moving orange-ish orbs on new ye...</td>\n",
       "      <td>729</td>\n",
       "    </tr>\n",
       "    <tr>\n",
       "      <th>1</th>\n",
       "      <td>2015-12-31 15:00:00</td>\n",
       "      <td>15:00</td>\n",
       "      <td>44.848449</td>\n",
       "      <td>-123.233987</td>\n",
       "      <td>Monmouth</td>\n",
       "      <td>OR</td>\n",
       "      <td>A white balloon gives off a bright blue light ...</td>\n",
       "      <td>729</td>\n",
       "    </tr>\n",
       "    <tr>\n",
       "      <th>2</th>\n",
       "      <td>2015-12-30 22:00:00</td>\n",
       "      <td>22:00</td>\n",
       "      <td>45.523447</td>\n",
       "      <td>-122.676207</td>\n",
       "      <td>Portland</td>\n",
       "      <td>OR</td>\n",
       "      <td>Dozen red green blue lights in portland sky th...</td>\n",
       "      <td>728</td>\n",
       "    </tr>\n",
       "    <tr>\n",
       "      <th>3</th>\n",
       "      <td>2015-12-30 19:30:00</td>\n",
       "      <td>19:30</td>\n",
       "      <td>44.046237</td>\n",
       "      <td>-123.022028</td>\n",
       "      <td>Springfield</td>\n",
       "      <td>OR</td>\n",
       "      <td>Shape changing UFO's in Springfield, Oregon.</td>\n",
       "      <td>728</td>\n",
       "    </tr>\n",
       "    <tr>\n",
       "      <th>4</th>\n",
       "      <td>2015-12-30 16:50:00</td>\n",
       "      <td>16:50</td>\n",
       "      <td>45.467337</td>\n",
       "      <td>-122.352587</td>\n",
       "      <td>Orient</td>\n",
       "      <td>OR</td>\n",
       "      <td>While driving at sunset I saw a hovering, vert...</td>\n",
       "      <td>728</td>\n",
       "    </tr>\n",
       "  </tbody>\n",
       "</table>\n",
       "</div>"
      ],
      "text/plain": [
       "                 Date   Time        Lat        Long         City State  \\\n",
       "0 2015-12-31 23:59:00  23:59  44.052069 -123.086746       Eugene    OR   \n",
       "1 2015-12-31 15:00:00  15:00  44.848449 -123.233987     Monmouth    OR   \n",
       "2 2015-12-30 22:00:00  22:00  45.523447 -122.676207     Portland    OR   \n",
       "3 2015-12-30 19:30:00  19:30  44.046237 -123.022028  Springfield    OR   \n",
       "4 2015-12-30 16:50:00  16:50  45.467337 -122.352587       Orient    OR   \n",
       "\n",
       "                                             Summary  Diff  \n",
       "0  Viewed 4 slow moving orange-ish orbs on new ye...   729  \n",
       "1  A white balloon gives off a bright blue light ...   729  \n",
       "2  Dozen red green blue lights in portland sky th...   728  \n",
       "3       Shape changing UFO's in Springfield, Oregon.   728  \n",
       "4  While driving at sunset I saw a hovering, vert...   728  "
      ]
     },
     "execution_count": 7,
     "metadata": {},
     "output_type": "execute_result"
    }
   ],
   "source": [
    "data.head()"
   ]
  },
  {
   "cell_type": "markdown",
   "metadata": {},
   "source": [
    "### - Taking the $\\pm$ n days of the event \n",
    "\n",
    "#### eg. Navy Misslie: 11-07-2015, n=3"
   ]
  },
  {
   "cell_type": "code",
   "execution_count": 10,
   "metadata": {
    "collapsed": false
   },
   "outputs": [
    {
     "data": {
      "text/plain": [
       "(403, 8)"
      ]
     },
     "execution_count": 10,
     "metadata": {},
     "output_type": "execute_result"
    }
   ],
   "source": [
    "data_event = data[(data.Diff > 671) & (data.Diff < 679)]\n",
    "data_event.shape"
   ]
  },
  {
   "cell_type": "markdown",
   "metadata": {},
   "source": [
    "###  - NLP : Computing the similarity between summary"
   ]
  },
  {
   "cell_type": "code",
   "execution_count": 11,
   "metadata": {
    "collapsed": false
   },
   "outputs": [],
   "source": [
    "from gensim.models import Word2Vec\n",
    "# Setup the body text\n",
    "text = data_event.Summary.str.lower()"
   ]
  },
  {
   "cell_type": "code",
   "execution_count": 12,
   "metadata": {
    "collapsed": true
   },
   "outputs": [],
   "source": [
    "import nltk, string\n",
    "from sklearn.feature_extraction.text import TfidfVectorizer\n",
    "\n",
    "\n",
    "stemmer = nltk.stem.porter.PorterStemmer()\n",
    "remove_punctuation_map = dict((ord(char), None) for char in string.punctuation)\n",
    "\n",
    "def stem_tokens(tokens):\n",
    "    return [stemmer.stem(item) for item in tokens]\n",
    "\n",
    "'''remove punctuation, lowercase, stem'''\n",
    "def normalize(text):\n",
    "    return stem_tokens(nltk.word_tokenize(text.lower().translate(remove_punctuation_map)))\n",
    "\n",
    "vectorizer = TfidfVectorizer(tokenizer=normalize, stop_words='english')\n",
    "\n",
    "def cosine_sim(text1, text2):\n",
    "    tfidf = vectorizer.fit_transform([text1, text2])\n",
    "    return ((tfidf * tfidf.T).A)[0,1]"
   ]
  },
  {
   "cell_type": "code",
   "execution_count": 13,
   "metadata": {
    "collapsed": true
   },
   "outputs": [],
   "source": [
    "def summary_scores():\n",
    "    '''\n",
    "    Returns the reference text from the event. \n",
    "    \n",
    "    '''\n",
    "    score_map = {}\n",
    "    \n",
    "    for i in range(1, len(data_event)):\n",
    "        score_map[i] = 0\n",
    "        for j in range(i+1, len(data_event)):\n",
    "            score_map[j] = 0\n",
    "            if cosine_sim(text.iloc[i], text.iloc[j]) > 0.5:\n",
    "                score_map[i] += 1\n",
    "                score_map[j] += 1\n",
    "    return score_map\n",
    "    \n",
    "    # look for that value from score_map.values() which is maximum\n",
    "#print 'best summary:', max(score_map.items(), key=lambda x: x[1])    \n",
    "sim_score = summary_scores()"
   ]
  },
  {
   "cell_type": "code",
   "execution_count": 14,
   "metadata": {
    "collapsed": false
   },
   "outputs": [
    {
     "name": "stdout",
     "output_type": "stream",
     "text": [
      "best summary: (51, 106)\n"
     ]
    }
   ],
   "source": [
    "print 'best summary:', max(sim_score.items(), key = lambda x: x[1])"
   ]
  },
  {
   "cell_type": "code",
   "execution_count": 16,
   "metadata": {
    "collapsed": false
   },
   "outputs": [
    {
     "name": "stderr",
     "output_type": "stream",
     "text": [
      "/Library/Frameworks/Python.framework/Versions/2.7/lib/python2.7/site-packages/ipykernel/__main__.py:7: SettingWithCopyWarning: \n",
      "A value is trying to be set on a copy of a slice from a DataFrame.\n",
      "Try using .loc[row_indexer,col_indexer] = value instead\n",
      "\n",
      "See the caveats in the documentation: http://pandas.pydata.org/pandas-docs/stable/indexing.html#indexing-view-versus-copy\n"
     ]
    },
    {
     "data": {
      "text/html": [
       "<div>\n",
       "<table border=\"1\" class=\"dataframe\">\n",
       "  <thead>\n",
       "    <tr style=\"text-align: right;\">\n",
       "      <th></th>\n",
       "      <th>Date</th>\n",
       "      <th>Time</th>\n",
       "      <th>Lat</th>\n",
       "      <th>Long</th>\n",
       "      <th>City</th>\n",
       "      <th>State</th>\n",
       "      <th>Summary</th>\n",
       "      <th>Diff</th>\n",
       "      <th>Sim</th>\n",
       "    </tr>\n",
       "  </thead>\n",
       "  <tbody>\n",
       "    <tr>\n",
       "      <th>24</th>\n",
       "      <td>2015-11-07 19:00:00</td>\n",
       "      <td>19:00</td>\n",
       "      <td>44.939008</td>\n",
       "      <td>-123.060927</td>\n",
       "      <td>West Salem</td>\n",
       "      <td>OR</td>\n",
       "      <td>A white ball shaped light moving at a super hi...</td>\n",
       "      <td>675</td>\n",
       "      <td>0.490834</td>\n",
       "    </tr>\n",
       "    <tr>\n",
       "      <th>396</th>\n",
       "      <td>2015-11-08 18:30:00</td>\n",
       "      <td>18:30</td>\n",
       "      <td>37.822758</td>\n",
       "      <td>-112.435759</td>\n",
       "      <td>Panguitch</td>\n",
       "      <td>UT</td>\n",
       "      <td>Red light in sky. It seemed as it turned there...</td>\n",
       "      <td>676</td>\n",
       "      <td>0.129283</td>\n",
       "    </tr>\n",
       "    <tr>\n",
       "      <th>397</th>\n",
       "      <td>2015-11-07 19:30:00</td>\n",
       "      <td>19:30</td>\n",
       "      <td>40.299397</td>\n",
       "      <td>-109.988759</td>\n",
       "      <td>Roosevelt</td>\n",
       "      <td>UT</td>\n",
       "      <td>Large light in the sky with smoke.  ((NUFORC N...</td>\n",
       "      <td>675</td>\n",
       "      <td>0.716812</td>\n",
       "    </tr>\n",
       "    <tr>\n",
       "      <th>398</th>\n",
       "      <td>2015-11-07 19:02:00</td>\n",
       "      <td>19:02</td>\n",
       "      <td>40.343286</td>\n",
       "      <td>-111.720759</td>\n",
       "      <td>Lindon</td>\n",
       "      <td>UT</td>\n",
       "      <td>The light looked like a giant spot light, but ...</td>\n",
       "      <td>675</td>\n",
       "      <td>0.472132</td>\n",
       "    </tr>\n",
       "    <tr>\n",
       "      <th>399</th>\n",
       "      <td>2015-11-07 19:00:00</td>\n",
       "      <td>19:00</td>\n",
       "      <td>40.314120</td>\n",
       "      <td>-112.006880</td>\n",
       "      <td>Eagle Mountain</td>\n",
       "      <td>UT</td>\n",
       "      <td>4 Witnesses see U.F.O in Eagle Mountain.   ((N...</td>\n",
       "      <td>675</td>\n",
       "      <td>0.474493</td>\n",
       "    </tr>\n",
       "  </tbody>\n",
       "</table>\n",
       "</div>"
      ],
      "text/plain": [
       "                   Date   Time        Lat        Long            City State  \\\n",
       "24  2015-11-07 19:00:00  19:00  44.939008 -123.060927      West Salem    OR   \n",
       "396 2015-11-08 18:30:00  18:30  37.822758 -112.435759       Panguitch    UT   \n",
       "397 2015-11-07 19:30:00  19:30  40.299397 -109.988759       Roosevelt    UT   \n",
       "398 2015-11-07 19:02:00  19:02  40.343286 -111.720759          Lindon    UT   \n",
       "399 2015-11-07 19:00:00  19:00  40.314120 -112.006880  Eagle Mountain    UT   \n",
       "\n",
       "                                               Summary  Diff       Sim  \n",
       "24   A white ball shaped light moving at a super hi...   675  0.490834  \n",
       "396  Red light in sky. It seemed as it turned there...   676  0.129283  \n",
       "397  Large light in the sky with smoke.  ((NUFORC N...   675  0.716812  \n",
       "398  The light looked like a giant spot light, but ...   675  0.472132  \n",
       "399  4 Witnesses see U.F.O in Eagle Mountain.   ((N...   675  0.474493  "
      ]
     },
     "execution_count": 16,
     "metadata": {},
     "output_type": "execute_result"
    }
   ],
   "source": [
    "sim = []\n",
    "for i in range(0,len(text)):\n",
    "    try:\n",
    "        sim.append(cosine_sim(text.iloc[i],text.iloc[51]))\n",
    "    except ValueError:\n",
    "        sim.append(0);\n",
    "data_event['Sim'] = sim   \n",
    "\n",
    "data_event.head()"
   ]
  },
  {
   "cell_type": "code",
   "execution_count": 17,
   "metadata": {
    "collapsed": false
   },
   "outputs": [
    {
     "name": "stdout",
     "output_type": "stream",
     "text": [
      "bright white light in the sky.  ((nuforc note:  u. s. navy missile launch.  pd))\n"
     ]
    }
   ],
   "source": [
    "print text.iloc[51]"
   ]
  },
  {
   "cell_type": "markdown",
   "metadata": {},
   "source": [
    "### - K - Means for Location"
   ]
  },
  {
   "cell_type": "code",
   "execution_count": 18,
   "metadata": {
    "collapsed": false
   },
   "outputs": [
    {
     "name": "stderr",
     "output_type": "stream",
     "text": [
      "/Library/Frameworks/Python.framework/Versions/2.7/lib/python2.7/site-packages/ipykernel/__main__.py:3: SettingWithCopyWarning: \n",
      "A value is trying to be set on a copy of a slice from a DataFrame.\n",
      "Try using .loc[row_indexer,col_indexer] = value instead\n",
      "\n",
      "See the caveats in the documentation: http://pandas.pydata.org/pandas-docs/stable/indexing.html#indexing-view-versus-copy\n",
      "  app.launch_new_instance()\n"
     ]
    },
    {
     "data": {
      "text/html": [
       "<div>\n",
       "<table border=\"1\" class=\"dataframe\">\n",
       "  <thead>\n",
       "    <tr style=\"text-align: right;\">\n",
       "      <th></th>\n",
       "      <th>Date</th>\n",
       "      <th>Time</th>\n",
       "      <th>Lat</th>\n",
       "      <th>Long</th>\n",
       "      <th>City</th>\n",
       "      <th>State</th>\n",
       "      <th>Summary</th>\n",
       "      <th>Diff</th>\n",
       "      <th>Sim</th>\n",
       "      <th>Cluster</th>\n",
       "    </tr>\n",
       "  </thead>\n",
       "  <tbody>\n",
       "    <tr>\n",
       "      <th>24</th>\n",
       "      <td>2015-11-07 19:00:00</td>\n",
       "      <td>19:00</td>\n",
       "      <td>44.939008</td>\n",
       "      <td>-123.060927</td>\n",
       "      <td>West Salem</td>\n",
       "      <td>OR</td>\n",
       "      <td>A white ball shaped light moving at a super hi...</td>\n",
       "      <td>675</td>\n",
       "      <td>0.490834</td>\n",
       "      <td>1</td>\n",
       "    </tr>\n",
       "    <tr>\n",
       "      <th>396</th>\n",
       "      <td>2015-11-08 18:30:00</td>\n",
       "      <td>18:30</td>\n",
       "      <td>37.822758</td>\n",
       "      <td>-112.435759</td>\n",
       "      <td>Panguitch</td>\n",
       "      <td>UT</td>\n",
       "      <td>Red light in sky. It seemed as it turned there...</td>\n",
       "      <td>676</td>\n",
       "      <td>0.129283</td>\n",
       "      <td>1</td>\n",
       "    </tr>\n",
       "    <tr>\n",
       "      <th>397</th>\n",
       "      <td>2015-11-07 19:30:00</td>\n",
       "      <td>19:30</td>\n",
       "      <td>40.299397</td>\n",
       "      <td>-109.988759</td>\n",
       "      <td>Roosevelt</td>\n",
       "      <td>UT</td>\n",
       "      <td>Large light in the sky with smoke.  ((NUFORC N...</td>\n",
       "      <td>675</td>\n",
       "      <td>0.716812</td>\n",
       "      <td>1</td>\n",
       "    </tr>\n",
       "    <tr>\n",
       "      <th>398</th>\n",
       "      <td>2015-11-07 19:02:00</td>\n",
       "      <td>19:02</td>\n",
       "      <td>40.343286</td>\n",
       "      <td>-111.720759</td>\n",
       "      <td>Lindon</td>\n",
       "      <td>UT</td>\n",
       "      <td>The light looked like a giant spot light, but ...</td>\n",
       "      <td>675</td>\n",
       "      <td>0.472132</td>\n",
       "      <td>1</td>\n",
       "    </tr>\n",
       "    <tr>\n",
       "      <th>399</th>\n",
       "      <td>2015-11-07 19:00:00</td>\n",
       "      <td>19:00</td>\n",
       "      <td>40.314120</td>\n",
       "      <td>-112.006880</td>\n",
       "      <td>Eagle Mountain</td>\n",
       "      <td>UT</td>\n",
       "      <td>4 Witnesses see U.F.O in Eagle Mountain.   ((N...</td>\n",
       "      <td>675</td>\n",
       "      <td>0.474493</td>\n",
       "      <td>1</td>\n",
       "    </tr>\n",
       "  </tbody>\n",
       "</table>\n",
       "</div>"
      ],
      "text/plain": [
       "                   Date   Time        Lat        Long            City State  \\\n",
       "24  2015-11-07 19:00:00  19:00  44.939008 -123.060927      West Salem    OR   \n",
       "396 2015-11-08 18:30:00  18:30  37.822758 -112.435759       Panguitch    UT   \n",
       "397 2015-11-07 19:30:00  19:30  40.299397 -109.988759       Roosevelt    UT   \n",
       "398 2015-11-07 19:02:00  19:02  40.343286 -111.720759          Lindon    UT   \n",
       "399 2015-11-07 19:00:00  19:00  40.314120 -112.006880  Eagle Mountain    UT   \n",
       "\n",
       "                                               Summary  Diff       Sim  \\\n",
       "24   A white ball shaped light moving at a super hi...   675  0.490834   \n",
       "396  Red light in sky. It seemed as it turned there...   676  0.129283   \n",
       "397  Large light in the sky with smoke.  ((NUFORC N...   675  0.716812   \n",
       "398  The light looked like a giant spot light, but ...   675  0.472132   \n",
       "399  4 Witnesses see U.F.O in Eagle Mountain.   ((N...   675  0.474493   \n",
       "\n",
       "     Cluster  \n",
       "24         1  \n",
       "396        1  \n",
       "397        1  \n",
       "398        1  \n",
       "399        1  "
      ]
     },
     "execution_count": 18,
     "metadata": {},
     "output_type": "execute_result"
    }
   ],
   "source": [
    "from sklearn import cluster\n",
    "cls = cluster.k_means(data_event[['Lat', 'Long']].values,4)\n",
    "data_event['Cluster']= cls[1]\n",
    "data_event.head()"
   ]
  },
  {
   "cell_type": "markdown",
   "metadata": {},
   "source": [
    "Here I divided all the locations to 4 clusters. Question: What is a best number for the clusters?"
   ]
  },
  {
   "cell_type": "code",
   "execution_count": 19,
   "metadata": {
    "collapsed": false
   },
   "outputs": [
    {
     "data": {
      "image/png": "[encoded data removed]",
      "text/plain": [
       "<matplotlib.figure.Figure at 0x10d647d10>"
      ]
     },
     "metadata": {},
     "output_type": "display_data"
    }
   ],
   "source": [
    "plt.scatter(data_event.Lat.values, data_event.Long.values, c=list(data_event.Cluster.values))\n",
    "plt.title('Clusters Identifed by color')\n",
    "plt.show()"
   ]
  },
  {
   "cell_type": "code",
   "execution_count": 45,
   "metadata": {
    "collapsed": false
   },
   "outputs": [
    {
     "name": "stdout",
     "output_type": "stream",
     "text": [
      "(117, 10)\n",
      "(0, 10)\n",
      "(0, 10)\n",
      "(1, 10)\n"
     ]
    }
   ],
   "source": [
    "data_region0 = data_event[(data_event.Cluster == 0) & (data_event.Sim > 0.5)]\n",
    "print data_region0.shape\n",
    "\n",
    "data_region1 = data_event[(data_event.Cluster == 1) & (data_event.Sim > 0.5)]\n",
    "print data_region1.shape\n",
    "\n",
    "data_region2 = data_event[(data_event.Cluster == 2) & (data_event.Sim > 0.5)]\n",
    "print data_region2.shape\n",
    "\n",
    "data_region3 = data_event[(data_event.Cluster == 3) & (data_event.Sim > 0.5)]\n",
    "print data_region3.shape\n"
   ]
  },
  {
   "cell_type": "markdown",
   "metadata": {},
   "source": [
    "### - Time Series Analysis"
   ]
  },
  {
   "cell_type": "code",
   "execution_count": 47,
   "metadata": {
    "collapsed": false
   },
   "outputs": [
    {
     "data": {
      "text/html": [
       "<div>\n",
       "<table border=\"1\" class=\"dataframe\">\n",
       "  <thead>\n",
       "    <tr style=\"text-align: right;\">\n",
       "      <th></th>\n",
       "      <th>Time</th>\n",
       "      <th>Lat</th>\n",
       "      <th>Long</th>\n",
       "      <th>City</th>\n",
       "      <th>State</th>\n",
       "      <th>Summary</th>\n",
       "      <th>Diff</th>\n",
       "      <th>Sim</th>\n",
       "      <th>Cluster</th>\n",
       "    </tr>\n",
       "    <tr>\n",
       "      <th>Date</th>\n",
       "      <th></th>\n",
       "      <th></th>\n",
       "      <th></th>\n",
       "      <th></th>\n",
       "      <th></th>\n",
       "      <th></th>\n",
       "      <th></th>\n",
       "      <th></th>\n",
       "      <th></th>\n",
       "    </tr>\n",
       "  </thead>\n",
       "  <tbody>\n",
       "    <tr>\n",
       "      <th>2015-11-07 19:30:00</th>\n",
       "      <td>19:30</td>\n",
       "      <td>40.299397</td>\n",
       "      <td>-109.988759</td>\n",
       "      <td>Roosevelt</td>\n",
       "      <td>UT</td>\n",
       "      <td>Large light in the sky with smoke.  ((NUFORC N...</td>\n",
       "      <td>675</td>\n",
       "      <td>0.716812</td>\n",
       "      <td>0</td>\n",
       "    </tr>\n",
       "    <tr>\n",
       "      <th>2015-11-07 19:00:00</th>\n",
       "      <td>19:00</td>\n",
       "      <td>40.314120</td>\n",
       "      <td>-112.006880</td>\n",
       "      <td>Eagle Mountain</td>\n",
       "      <td>UT</td>\n",
       "      <td>Unnatural bright light emitted from the sky, i...</td>\n",
       "      <td>675</td>\n",
       "      <td>0.668348</td>\n",
       "      <td>0</td>\n",
       "    </tr>\n",
       "    <tr>\n",
       "      <th>2015-11-07 19:00:00</th>\n",
       "      <td>19:00</td>\n",
       "      <td>38.573319</td>\n",
       "      <td>-109.549837</td>\n",
       "      <td>Moab</td>\n",
       "      <td>UT</td>\n",
       "      <td>Bright light in the sky with corresponding dus...</td>\n",
       "      <td>675</td>\n",
       "      <td>0.742260</td>\n",
       "      <td>0</td>\n",
       "    </tr>\n",
       "    <tr>\n",
       "      <th>2015-11-07 19:40:00</th>\n",
       "      <td>19:40</td>\n",
       "      <td>36.747727</td>\n",
       "      <td>-119.772367</td>\n",
       "      <td>Fresno</td>\n",
       "      <td>CA</td>\n",
       "      <td>object spraying a substance and had blue light...</td>\n",
       "      <td>675</td>\n",
       "      <td>0.566644</td>\n",
       "      <td>0</td>\n",
       "    </tr>\n",
       "    <tr>\n",
       "      <th>2015-11-07 19:00:00</th>\n",
       "      <td>19:00</td>\n",
       "      <td>37.287167</td>\n",
       "      <td>-121.949958</td>\n",
       "      <td>Campbell</td>\n",
       "      <td>CA</td>\n",
       "      <td>Cone of light, bright blue contrail and symmet...</td>\n",
       "      <td>675</td>\n",
       "      <td>0.572739</td>\n",
       "      <td>0</td>\n",
       "    </tr>\n",
       "  </tbody>\n",
       "</table>\n",
       "</div>"
      ],
      "text/plain": [
       "                      Time        Lat        Long            City State  \\\n",
       "Date                                                                      \n",
       "2015-11-07 19:30:00  19:30  40.299397 -109.988759       Roosevelt    UT   \n",
       "2015-11-07 19:00:00  19:00  40.314120 -112.006880  Eagle Mountain    UT   \n",
       "2015-11-07 19:00:00  19:00  38.573319 -109.549837            Moab    UT   \n",
       "2015-11-07 19:40:00  19:40  36.747727 -119.772367          Fresno    CA   \n",
       "2015-11-07 19:00:00  19:00  37.287167 -121.949958        Campbell    CA   \n",
       "\n",
       "                                                               Summary  Diff  \\\n",
       "Date                                                                           \n",
       "2015-11-07 19:30:00  Large light in the sky with smoke.  ((NUFORC N...   675   \n",
       "2015-11-07 19:00:00  Unnatural bright light emitted from the sky, i...   675   \n",
       "2015-11-07 19:00:00  Bright light in the sky with corresponding dus...   675   \n",
       "2015-11-07 19:40:00  object spraying a substance and had blue light...   675   \n",
       "2015-11-07 19:00:00  Cone of light, bright blue contrail and symmet...   675   \n",
       "\n",
       "                          Sim  Cluster  \n",
       "Date                                    \n",
       "2015-11-07 19:30:00  0.716812        0  \n",
       "2015-11-07 19:00:00  0.668348        0  \n",
       "2015-11-07 19:00:00  0.742260        0  \n",
       "2015-11-07 19:40:00  0.566644        0  \n",
       "2015-11-07 19:00:00  0.572739        0  "
      ]
     },
     "execution_count": 47,
     "metadata": {},
     "output_type": "execute_result"
    }
   ],
   "source": [
    "data_time = pd.DataFrame(data_region0)\n",
    "data_time.set_index('Date',inplace=True)\n",
    "data_time.index = pd.to_datetime(data_time.index, unit='s')\n",
    "data_time.head()"
   ]
  },
  {
   "cell_type": "code",
   "execution_count": 50,
   "metadata": {
    "collapsed": false
   },
   "outputs": [
    {
     "name": "stderr",
     "output_type": "stream",
     "text": [
      "/Library/Frameworks/Python.framework/Versions/2.7/lib/python2.7/site-packages/ipykernel/__main__.py:1: FutureWarning: how in .resample() is deprecated\n",
      "the new syntax is .resample(...).count()\n",
      "  if __name__ == '__main__':\n",
      "/Library/Frameworks/Python.framework/Versions/2.7/lib/python2.7/site-packages/ipykernel/__main__.py:2: FutureWarning: how in .resample() is deprecated\n",
      "the new syntax is .resample(...).mean()\n",
      "  from ipykernel import kernelapp as app\n",
      "/Library/Frameworks/Python.framework/Versions/2.7/lib/python2.7/site-packages/ipykernel/__main__.py:3: FutureWarning: how in .resample() is deprecated\n",
      "the new syntax is .resample(...).mean()\n",
      "  app.launch_new_instance()\n"
     ]
    },
    {
     "data": {
      "text/html": [
       "<div>\n",
       "<table border=\"1\" class=\"dataframe\">\n",
       "  <thead>\n",
       "    <tr style=\"text-align: right;\">\n",
       "      <th></th>\n",
       "      <th>Time</th>\n",
       "      <th>Lat</th>\n",
       "      <th>Long</th>\n",
       "    </tr>\n",
       "    <tr>\n",
       "      <th>Date</th>\n",
       "      <th></th>\n",
       "      <th></th>\n",
       "      <th></th>\n",
       "    </tr>\n",
       "  </thead>\n",
       "  <tbody>\n",
       "    <tr>\n",
       "      <th>2015-11-06 20:00:00</th>\n",
       "      <td>1</td>\n",
       "      <td>34.869738</td>\n",
       "      <td>-111.760986</td>\n",
       "    </tr>\n",
       "    <tr>\n",
       "      <th>2015-11-07 18:00:00</th>\n",
       "      <td>40</td>\n",
       "      <td>35.453902</td>\n",
       "      <td>-118.688488</td>\n",
       "    </tr>\n",
       "    <tr>\n",
       "      <th>2015-11-07 18:05:00</th>\n",
       "      <td>13</td>\n",
       "      <td>35.199857</td>\n",
       "      <td>-118.698946</td>\n",
       "    </tr>\n",
       "    <tr>\n",
       "      <th>2015-11-07 18:10:00</th>\n",
       "      <td>9</td>\n",
       "      <td>34.745674</td>\n",
       "      <td>-118.108964</td>\n",
       "    </tr>\n",
       "    <tr>\n",
       "      <th>2015-11-07 18:15:00</th>\n",
       "      <td>7</td>\n",
       "      <td>35.389401</td>\n",
       "      <td>-118.797150</td>\n",
       "    </tr>\n",
       "  </tbody>\n",
       "</table>\n",
       "</div>"
      ],
      "text/plain": [
       "                     Time        Lat        Long\n",
       "Date                                            \n",
       "2015-11-06 20:00:00     1  34.869738 -111.760986\n",
       "2015-11-07 18:00:00    40  35.453902 -118.688488\n",
       "2015-11-07 18:05:00    13  35.199857 -118.698946\n",
       "2015-11-07 18:10:00     9  34.745674 -118.108964\n",
       "2015-11-07 18:15:00     7  35.389401 -118.797150"
      ]
     },
     "execution_count": 50,
     "metadata": {},
     "output_type": "execute_result"
    }
   ],
   "source": [
    "data_time_count = data_time[['Time']].resample('5Min', how='count')\n",
    "data_time_count['Lat'] = data_time[['Lat']] .resample('5Min', how='mean')\n",
    "data_time_count['Long'] = data_time[['Long']] .resample('5Min', how='mean')\n",
    "data_time_count=data_time_count.dropna()\n",
    "data_time_count.head()"
   ]
  },
  {
   "cell_type": "code",
   "execution_count": 51,
   "metadata": {
    "collapsed": false
   },
   "outputs": [
    {
     "data": {
      "text/plain": [
       "[<matplotlib.lines.Line2D at 0x10a679ad0>]"
      ]
     },
     "execution_count": 51,
     "metadata": {},
     "output_type": "execute_result"
    },
    {
     "data": {
      "image/png": "[encoded data removed]",
      "text/plain": [
       "<matplotlib.figure.Figure at 0x10a679a90>"
      ]
     },
     "metadata": {},
     "output_type": "display_data"
    }
   ],
   "source": [
    "plt.plot(data_time_count['Lat'], data_time_count['Long'])\n",
    "plt.plot(data_time_count['Lat'], data_time_count['Long'], '.', color='red')"
   ]
  },
  {
   "cell_type": "code",
   "execution_count": 20,
   "metadata": {
    "collapsed": false
   },
   "outputs": [
    {
     "ename": "NameError",
     "evalue": "name 'data_time_count' is not defined",
     "output_type": "error",
     "traceback": [
      "\u001b[0;31m---------------------------------------------------------------------------\u001b[0m",
      "\u001b[0;31mNameError\u001b[0m                                 Traceback (most recent call last)",
      "\u001b[0;32m<ipython-input-20-b904a7c84b0e>\u001b[0m in \u001b[0;36m<module>\u001b[0;34m()\u001b[0m\n\u001b[0;32m----> 1\u001b[0;31m \u001b[0mx\u001b[0m \u001b[0;34m=\u001b[0m \u001b[0mdata_time_count\u001b[0m\u001b[0;34m[\u001b[0m\u001b[0;34m'Lat'\u001b[0m\u001b[0;34m]\u001b[0m\u001b[0;34m\u001b[0m\u001b[0m\n\u001b[0m\u001b[1;32m      2\u001b[0m \u001b[0my\u001b[0m \u001b[0;34m=\u001b[0m \u001b[0mdata_time_count\u001b[0m\u001b[0;34m[\u001b[0m\u001b[0;34m'Long'\u001b[0m\u001b[0;34m]\u001b[0m\u001b[0;34m\u001b[0m\u001b[0m\n\u001b[1;32m      3\u001b[0m \u001b[0;34m\u001b[0m\u001b[0m\n\u001b[1;32m      4\u001b[0m \u001b[0mplt\u001b[0m\u001b[0;34m.\u001b[0m\u001b[0mfigure\u001b[0m\u001b[0;34m(\u001b[0m\u001b[0;34m)\u001b[0m\u001b[0;34m\u001b[0m\u001b[0m\n\u001b[1;32m      5\u001b[0m \u001b[0;32mfor\u001b[0m \u001b[0mi\u001b[0m \u001b[0;32min\u001b[0m \u001b[0mrange\u001b[0m\u001b[0;34m(\u001b[0m\u001b[0;36m0\u001b[0m\u001b[0;34m,\u001b[0m\u001b[0mlen\u001b[0m\u001b[0;34m(\u001b[0m\u001b[0mdata_time_count\u001b[0m\u001b[0;34m)\u001b[0m\u001b[0;34m-\u001b[0m\u001b[0;36m1\u001b[0m\u001b[0;34m)\u001b[0m\u001b[0;34m:\u001b[0m\u001b[0;34m\u001b[0m\u001b[0m\n",
      "\u001b[0;31mNameError\u001b[0m: name 'data_time_count' is not defined"
     ]
    }
   ],
   "source": [
    "x = data_time_count['Lat']\n",
    "y = data_time_count['Long']\n",
    "\n",
    "plt.figure()\n",
    "for i in range(0,len(data_time_count)-1):\n",
    "    plt.quiver(x[i], y[i], x[i+1]-x[i], y[i+1]-y[i], scale_units = 'xy', angles='xy', scale=1)\n",
    "\n",
    "plt.plot(data_time_count['Lat'], data_time_count['Long'], '.', color='red')\n",
    "plt.show()\n",
    "plt.plot(x[0], y[0], color='blue')"
   ]
  },
  {
   "cell_type": "code",
   "execution_count": null,
   "metadata": {
    "collapsed": true
   },
   "outputs": [],
   "source": []
  }
 ],
 "metadata": {
  "kernelspec": {
   "display_name": "Python 2",
   "language": "python",
   "name": "python2"
  },
  "language_info": {
   "codemirror_mode": {
    "name": "ipython",
    "version": 2
   },
   "file_extension": ".py",
   "mimetype": "text/x-python",
   "name": "python",
   "nbconvert_exporter": "python",
   "pygments_lexer": "ipython2",
   "version": "2.7.11"
  }
 },
 "nbformat": 4,
 "nbformat_minor": 0
}
